{
  "nbformat": 4,
  "nbformat_minor": 0,
  "metadata": {
    "colab": {
      "provenance": []
    },
    "kernelspec": {
      "name": "python3",
      "display_name": "Python 3"
    },
    "language_info": {
      "name": "python"
    }
  },
  "cells": [
    {
      "cell_type": "code",
      "execution_count": null,
      "metadata": {
        "id": "_NynYt2XfdOS"
      },
      "outputs": [],
      "source": [
        "!pip install -q -U google-generativeai"
      ]
    },
    {
      "cell_type": "code",
      "source": [
        "import pathlib\n",
        "import textwrap\n",
        "\n",
        "import google.generativeai as genai\n",
        "\n",
        "# Used to securely store your API key\n",
        "from google.colab import userdata\n",
        "\n",
        "from IPython.display import display\n",
        "from IPython.display import Markdown\n",
        "\n",
        "\n",
        "def to_markdown(text):\n",
        "  text = text.replace('•', '  *')\n",
        "  return Markdown(textwrap.indent(text, '> ', predicate=lambda _: True))"
      ],
      "metadata": {
        "id": "QVP-y7_0h35p"
      },
      "execution_count": null,
      "outputs": []
    },
    {
      "cell_type": "code",
      "source": [
        "GOOGLE_API_KEY=userdata.get('GOOGLE_API_KEY')\n",
        "\n",
        "genai.configure(api_key=GOOGLE_API_KEY)"
      ],
      "metadata": {
        "id": "a5022eA4axg1"
      },
      "execution_count": null,
      "outputs": []
    },
    {
      "cell_type": "code",
      "source": [
        "for m in genai.list_models(page_size=50):\n",
        "  if 'generateContent' in m.supported_generation_methods:\n",
        "    print(m.name)"
      ],
      "metadata": {
        "colab": {
          "base_uri": "https://localhost:8080/",
          "height": 52
        },
        "id": "9_pVdv0ag3sW",
        "outputId": "64562140-ef0f-4310-e421-228702eaf236"
      },
      "execution_count": null,
      "outputs": [
        {
          "output_type": "stream",
          "name": "stdout",
          "text": [
            "models/gemini-pro\n",
            "models/gemini-pro-vision\n"
          ]
        }
      ]
    },
    {
      "cell_type": "code",
      "source": [
        "model = genai.GenerativeModel('gemini-pro')"
      ],
      "metadata": {
        "id": "-0Pwv0fSg52R"
      },
      "execution_count": null,
      "outputs": []
    },
    {
      "cell_type": "code",
      "source": [
        "%%time\n",
        "response = model.generate_content(\"What is the meaning of life?\")"
      ],
      "metadata": {
        "colab": {
          "base_uri": "https://localhost:8080/",
          "height": 52
        },
        "id": "7s5LSzYso1u_",
        "outputId": "80278e3a-1124-4a80-be90-0576ee8c7436"
      },
      "execution_count": null,
      "outputs": [
        {
          "output_type": "stream",
          "name": "stdout",
          "text": [
            "CPU times: user 102 ms, sys: 12.2 ms, total: 115 ms\n",
            "Wall time: 7.82 s\n"
          ]
        }
      ]
    },
    {
      "cell_type": "code",
      "source": [
        "response.text"
      ],
      "metadata": {
        "id": "3J7_divJo310",
        "colab": {
          "base_uri": "https://localhost:8080/",
          "height": 139
        },
        "outputId": "a1743ae0-2838-4080-df68-5365f0c50792"
      },
      "execution_count": null,
      "outputs": [
        {
          "output_type": "execute_result",
          "data": {
            "text/plain": [
              "\"The meaning of life is a profound question that has been pondered by philosophers, theologians, and scholars for centuries. While there is no one definitive answer that is universally agreed upon, the search for meaning in life is an ongoing and deeply personal pursuit.\\n\\nPhilosophical Perspectives:\\n\\n1. **Existentialism:** Existentialism posits that there is no inherent meaning or purpose to life, and that individuals must create their own meaning through their choices, actions, and relationships.\\n\\n2. **Hedonism:** Hedonists believe that the meaning of life lies in the pursuit of pleasure and the avoidance of pain.\\n\\n3. **Stoicism:** Stoicism emphasizes the importance of accepting the challenges of life with resilience and fortitude, and finding meaning through virtue and self-discipline.\\n\\n4. **Utilitarianism:** Utilitarianism proposes that the meaning of life is to maximize happiness and minimize suffering for the greatest number of people.\\n\\nReligious Perspectives:\\n\\n1. **Theism:** Many religions offer a transcendent framework for understanding the meaning of life, viewing it as a journey towards spiritual enlightenment, salvation, or union with a higher power.\\n\\n2. **Atheism:** Atheists typically reject the idea of a supernatural purpose for life and focus on finding meaning through secular values such as empathy, compassion, and the pursuit of knowledge.\\n\\nPsychological Perspectives:\\n\\n1. **Humanistic Psychology:** Humanistic psychologists believe that the meaning of life lies in personal growth, self-actualization, and the fulfillment of one's potential.\\n\\n2. **Positive Psychology:** Positive psychologists emphasize the importance of positive emotions, resilience, and gratitude in cultivating a meaningful life.\\n\\n3. **Existential Psychology:** Existential psychologists explore the themes of meaning, purpose, and freedom in the context of human existence.\\n\\nUltimately, the meaning of life is a subjective and deeply personal matter. It can be found in relationships, work, creative expression, spiritual pursuits, or any activity that brings a sense of fulfillment, purpose, and connection to others. The journey to discover one's own meaning in life is ongoing, and it can evolve over time as individuals grow, learn, and experience the world.\""
            ],
            "application/vnd.google.colaboratory.intrinsic+json": {
              "type": "string"
            }
          },
          "metadata": {},
          "execution_count": 8
        }
      ]
    },
    {
      "cell_type": "code",
      "source": [
        "\n",
        "\n",
        "response = model.generate_content(\n",
        "    'Tell me a story about a magic backpack.',\n",
        "    generation_config=genai.types.GenerationConfig(\n",
        "        # Only one candidate for now.\n",
        "        candidate_count=1,\n",
        "        # stop_sequences=['x'],\n",
        "        max_output_tokens=1500,\n",
        "        temperature=1.0)\n",
        ")"
      ],
      "metadata": {
        "id": "Zs6YYT5qsz5L"
      },
      "execution_count": null,
      "outputs": []
    },
    {
      "cell_type": "code",
      "source": [
        "model = genai.GenerativeModel('gemini-pro')\n",
        "chat = model.start_chat(history=[])\n",
        "chat"
      ],
      "metadata": {
        "id": "KxUdah7cs5Ac",
        "colab": {
          "base_uri": "https://localhost:8080/",
          "height": 211
        },
        "outputId": "db25da85-d675-4c74-f1ca-5c3bed23c503"
      },
      "execution_count": null,
      "outputs": [
        {
          "output_type": "error",
          "ename": "NameError",
          "evalue": "ignored",
          "traceback": [
            "\u001b[0;31m---------------------------------------------------------------------------\u001b[0m",
            "\u001b[0;31mNameError\u001b[0m                                 Traceback (most recent call last)",
            "\u001b[0;32m<ipython-input-2-6a30c95c474d>\u001b[0m in \u001b[0;36m<cell line: 1>\u001b[0;34m()\u001b[0m\n\u001b[0;32m----> 1\u001b[0;31m \u001b[0mmodel\u001b[0m \u001b[0;34m=\u001b[0m \u001b[0mgenai\u001b[0m\u001b[0;34m.\u001b[0m\u001b[0mGenerativeModel\u001b[0m\u001b[0;34m(\u001b[0m\u001b[0;34m'gemini-pro'\u001b[0m\u001b[0;34m)\u001b[0m\u001b[0;34m\u001b[0m\u001b[0;34m\u001b[0m\u001b[0m\n\u001b[0m\u001b[1;32m      2\u001b[0m \u001b[0mchat\u001b[0m \u001b[0;34m=\u001b[0m \u001b[0mmodel\u001b[0m\u001b[0;34m.\u001b[0m\u001b[0mstart_chat\u001b[0m\u001b[0;34m(\u001b[0m\u001b[0mhistory\u001b[0m\u001b[0;34m=\u001b[0m\u001b[0;34m[\u001b[0m\u001b[0;34m]\u001b[0m\u001b[0;34m)\u001b[0m\u001b[0;34m\u001b[0m\u001b[0;34m\u001b[0m\u001b[0m\n\u001b[1;32m      3\u001b[0m \u001b[0mchat\u001b[0m\u001b[0;34m\u001b[0m\u001b[0;34m\u001b[0m\u001b[0m\n",
            "\u001b[0;31mNameError\u001b[0m: name 'genai' is not defined"
          ]
        }
      ]
    },
    {
      "cell_type": "code",
      "source": [
        "\n",
        "\n",
        "\n"
      ],
      "metadata": {
        "id": "LDCs1v0sWgID"
      },
      "execution_count": null,
      "outputs": []
    }
  ]
}